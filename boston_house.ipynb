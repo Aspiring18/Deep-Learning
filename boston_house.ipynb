{
 "cells": [
  {
   "cell_type": "code",
   "execution_count": 1,
   "id": "178b511f",
   "metadata": {},
   "outputs": [
    {
     "name": "stdout",
     "output_type": "stream",
     "text": [
      "WARNING:tensorflow:From C:\\python 39\\lib\\site-packages\\keras\\src\\losses.py:2976: The name tf.losses.sparse_softmax_cross_entropy is deprecated. Please use tf.compat.v1.losses.sparse_softmax_cross_entropy instead.\n",
      "\n"
     ]
    }
   ],
   "source": [
    "import pandas as pd\n",
    "import numpy as np\n",
    "import tensorflow as tf"
   ]
  },
  {
   "cell_type": "code",
   "execution_count": 8,
   "id": "62f14b09",
   "metadata": {},
   "outputs": [
    {
     "data": {
      "text/html": [
       "<div>\n",
       "<style scoped>\n",
       "    .dataframe tbody tr th:only-of-type {\n",
       "        vertical-align: middle;\n",
       "    }\n",
       "\n",
       "    .dataframe tbody tr th {\n",
       "        vertical-align: top;\n",
       "    }\n",
       "\n",
       "    .dataframe thead th {\n",
       "        text-align: right;\n",
       "    }\n",
       "</style>\n",
       "<table border=\"1\" class=\"dataframe\">\n",
       "  <thead>\n",
       "    <tr style=\"text-align: right;\">\n",
       "      <th></th>\n",
       "      <th>crim</th>\n",
       "      <th>zn</th>\n",
       "      <th>indus</th>\n",
       "      <th>chas</th>\n",
       "      <th>nox</th>\n",
       "      <th>rm</th>\n",
       "      <th>age</th>\n",
       "      <th>dis</th>\n",
       "      <th>rad</th>\n",
       "      <th>tax</th>\n",
       "      <th>ptratio</th>\n",
       "      <th>b</th>\n",
       "      <th>lstat</th>\n",
       "      <th>MEDV</th>\n",
       "    </tr>\n",
       "  </thead>\n",
       "  <tbody>\n",
       "    <tr>\n",
       "      <th>0</th>\n",
       "      <td>0.00632</td>\n",
       "      <td>18.0</td>\n",
       "      <td>2.31</td>\n",
       "      <td>0</td>\n",
       "      <td>0.538</td>\n",
       "      <td>6.575</td>\n",
       "      <td>65.2</td>\n",
       "      <td>4.0900</td>\n",
       "      <td>1</td>\n",
       "      <td>296</td>\n",
       "      <td>15.3</td>\n",
       "      <td>396.90</td>\n",
       "      <td>4.98</td>\n",
       "      <td>24.0</td>\n",
       "    </tr>\n",
       "    <tr>\n",
       "      <th>1</th>\n",
       "      <td>0.02731</td>\n",
       "      <td>0.0</td>\n",
       "      <td>7.07</td>\n",
       "      <td>0</td>\n",
       "      <td>0.469</td>\n",
       "      <td>6.421</td>\n",
       "      <td>78.9</td>\n",
       "      <td>4.9671</td>\n",
       "      <td>2</td>\n",
       "      <td>242</td>\n",
       "      <td>17.8</td>\n",
       "      <td>396.90</td>\n",
       "      <td>9.14</td>\n",
       "      <td>21.6</td>\n",
       "    </tr>\n",
       "    <tr>\n",
       "      <th>2</th>\n",
       "      <td>0.02729</td>\n",
       "      <td>0.0</td>\n",
       "      <td>7.07</td>\n",
       "      <td>0</td>\n",
       "      <td>0.469</td>\n",
       "      <td>7.185</td>\n",
       "      <td>61.1</td>\n",
       "      <td>4.9671</td>\n",
       "      <td>2</td>\n",
       "      <td>242</td>\n",
       "      <td>17.8</td>\n",
       "      <td>392.83</td>\n",
       "      <td>4.03</td>\n",
       "      <td>34.7</td>\n",
       "    </tr>\n",
       "    <tr>\n",
       "      <th>3</th>\n",
       "      <td>0.03237</td>\n",
       "      <td>0.0</td>\n",
       "      <td>2.18</td>\n",
       "      <td>0</td>\n",
       "      <td>0.458</td>\n",
       "      <td>6.998</td>\n",
       "      <td>45.8</td>\n",
       "      <td>6.0622</td>\n",
       "      <td>3</td>\n",
       "      <td>222</td>\n",
       "      <td>18.7</td>\n",
       "      <td>394.63</td>\n",
       "      <td>2.94</td>\n",
       "      <td>33.4</td>\n",
       "    </tr>\n",
       "    <tr>\n",
       "      <th>4</th>\n",
       "      <td>0.06905</td>\n",
       "      <td>0.0</td>\n",
       "      <td>2.18</td>\n",
       "      <td>0</td>\n",
       "      <td>0.458</td>\n",
       "      <td>7.147</td>\n",
       "      <td>54.2</td>\n",
       "      <td>6.0622</td>\n",
       "      <td>3</td>\n",
       "      <td>222</td>\n",
       "      <td>18.7</td>\n",
       "      <td>396.90</td>\n",
       "      <td>5.33</td>\n",
       "      <td>36.2</td>\n",
       "    </tr>\n",
       "  </tbody>\n",
       "</table>\n",
       "</div>"
      ],
      "text/plain": [
       "      crim    zn  indus  chas    nox     rm   age     dis  rad  tax  ptratio  \\\n",
       "0  0.00632  18.0   2.31     0  0.538  6.575  65.2  4.0900    1  296     15.3   \n",
       "1  0.02731   0.0   7.07     0  0.469  6.421  78.9  4.9671    2  242     17.8   \n",
       "2  0.02729   0.0   7.07     0  0.469  7.185  61.1  4.9671    2  242     17.8   \n",
       "3  0.03237   0.0   2.18     0  0.458  6.998  45.8  6.0622    3  222     18.7   \n",
       "4  0.06905   0.0   2.18     0  0.458  7.147  54.2  6.0622    3  222     18.7   \n",
       "\n",
       "        b  lstat  MEDV  \n",
       "0  396.90   4.98  24.0  \n",
       "1  396.90   9.14  21.6  \n",
       "2  392.83   4.03  34.7  \n",
       "3  394.63   2.94  33.4  \n",
       "4  396.90   5.33  36.2  "
      ]
     },
     "execution_count": 8,
     "metadata": {},
     "output_type": "execute_result"
    }
   ],
   "source": [
    "df=pd.read_csv(\"housing_1.csv\")\n",
    "df.head()"
   ]
  },
  {
   "cell_type": "code",
   "execution_count": 9,
   "id": "a29337a2",
   "metadata": {},
   "outputs": [
    {
     "data": {
      "text/plain": [
       "crim       0\n",
       "zn         0\n",
       "indus      0\n",
       "chas       0\n",
       "nox        0\n",
       "rm         0\n",
       "age        0\n",
       "dis        0\n",
       "rad        0\n",
       "tax        0\n",
       "ptratio    0\n",
       "b          0\n",
       "lstat      0\n",
       "MEDV       0\n",
       "dtype: int64"
      ]
     },
     "execution_count": 9,
     "metadata": {},
     "output_type": "execute_result"
    }
   ],
   "source": [
    "df.isnull().sum()"
   ]
  },
  {
   "cell_type": "code",
   "execution_count": 10,
   "id": "c6bd7ad3",
   "metadata": {},
   "outputs": [
    {
     "data": {
      "text/plain": [
       "crim         3.613524\n",
       "zn          11.363636\n",
       "indus       11.136779\n",
       "chas         0.069170\n",
       "nox          0.554695\n",
       "rm           6.284634\n",
       "age         68.574901\n",
       "dis          3.795043\n",
       "rad          9.549407\n",
       "tax        408.237154\n",
       "ptratio     18.455534\n",
       "b          356.674032\n",
       "lstat       12.653063\n",
       "MEDV        22.532806\n",
       "dtype: float64"
      ]
     },
     "execution_count": 10,
     "metadata": {},
     "output_type": "execute_result"
    }
   ],
   "source": [
    "df.mean()"
   ]
  },
  {
   "cell_type": "code",
   "execution_count": 11,
   "id": "c9ed5174",
   "metadata": {},
   "outputs": [],
   "source": [
    "df.fillna(df.mean(),inplace=True)"
   ]
  },
  {
   "cell_type": "code",
   "execution_count": 12,
   "id": "5a1f4338",
   "metadata": {},
   "outputs": [],
   "source": [
    "x = df.drop('MEDV',axis=1)\n",
    "y=df['MEDV']"
   ]
  },
  {
   "cell_type": "code",
   "execution_count": 13,
   "id": "2853abe2",
   "metadata": {},
   "outputs": [
    {
     "name": "stdout",
     "output_type": "stream",
     "text": [
      "shape of scaled x train: (354, 13)\n",
      "shape of scaled x test: (152, 13)\n"
     ]
    }
   ],
   "source": [
    "from sklearn.model_selection import train_test_split\n",
    "from sklearn.preprocessing import MinMaxScaler\n",
    "x_train,x_test,y_train,y_test = train_test_split(x,y,test_size=0.3)\n",
    "scale = MinMaxScaler()\n",
    "x_train_scaled = scale.fit_transform(x_train)\n",
    "x_test_scaled = scale.fit_transform(x_test)\n",
    "print(\"shape of scaled x train:\",x_train_scaled.shape)\n",
    "print(\"shape of scaled x test:\",x_test_scaled.shape)"
   ]
  },
  {
   "cell_type": "code",
   "execution_count": 14,
   "id": "5b924252",
   "metadata": {},
   "outputs": [
    {
     "data": {
      "text/plain": [
       "array([0.00294549, 0.        , 0.33148148, 0.        , 0.41152263,\n",
       "       0.42785974, 0.69721936, 0.160327  , 0.2173913 , 0.38931298,\n",
       "       0.68888889, 1.        , 0.34133554])"
      ]
     },
     "execution_count": 14,
     "metadata": {},
     "output_type": "execute_result"
    }
   ],
   "source": [
    "x_train_scaled[0]"
   ]
  },
  {
   "cell_type": "code",
   "execution_count": 15,
   "id": "a8433ce0",
   "metadata": {},
   "outputs": [
    {
     "data": {
      "text/plain": [
       "(13,)"
      ]
     },
     "execution_count": 15,
     "metadata": {},
     "output_type": "execute_result"
    }
   ],
   "source": [
    "x_train_scaled[0].shape"
   ]
  },
  {
   "cell_type": "code",
   "execution_count": 16,
   "id": "23a24cb8",
   "metadata": {},
   "outputs": [],
   "source": [
    "from tensorflow.keras.models import Sequential\n",
    "from tensorflow.keras.layers import *\n",
    "\n",
    "def house_price_prediction():\n",
    "    model=Sequential()\n",
    "    model.add(Dense(128,activation='relu',input_shape=(x_train_scaled[0].shape)))\n",
    "    model.add(Dense(64,activation='relu'))\n",
    "    model.add(Dense(32,activation='relu'))\n",
    "    model.add(Dense(16,activation='relu'))\n",
    "    model.add(Dense(1))\n",
    "#     opt = tf.keras.optimizers.Adam()\n",
    "    model.compile(optimizer='adam',loss='mse',metrics=['mae'])\n",
    "    return model"
   ]
  },
  {
   "cell_type": "code",
   "execution_count": 17,
   "id": "b797f658",
   "metadata": {
    "scrolled": true
   },
   "outputs": [
    {
     "name": "stdout",
     "output_type": "stream",
     "text": [
      "WARNING:tensorflow:From C:\\python 39\\lib\\site-packages\\keras\\src\\backend.py:873: The name tf.get_default_graph is deprecated. Please use tf.compat.v1.get_default_graph instead.\n",
      "\n",
      "WARNING:tensorflow:From C:\\python 39\\lib\\site-packages\\keras\\src\\optimizers\\__init__.py:309: The name tf.train.Optimizer is deprecated. Please use tf.compat.v1.train.Optimizer instead.\n",
      "\n",
      "Epoch 1/100\n",
      "WARNING:tensorflow:From C:\\python 39\\lib\\site-packages\\keras\\src\\utils\\tf_utils.py:492: The name tf.ragged.RaggedTensorValue is deprecated. Please use tf.compat.v1.ragged.RaggedTensorValue instead.\n",
      "\n",
      "WARNING:tensorflow:From C:\\python 39\\lib\\site-packages\\keras\\src\\engine\\base_layer_utils.py:384: The name tf.executing_eagerly_outside_functions is deprecated. Please use tf.compat.v1.executing_eagerly_outside_functions instead.\n",
      "\n",
      "354/354 [==============================] - 4s 5ms/step - loss: 157.3329 - mae: 8.6457 - val_loss: 51.3309 - val_mae: 5.0917\n",
      "Epoch 2/100\n",
      "354/354 [==============================] - 1s 4ms/step - loss: 40.7692 - mae: 4.5453 - val_loss: 27.7165 - val_mae: 3.5131\n",
      "Epoch 3/100\n",
      "354/354 [==============================] - 1s 4ms/step - loss: 27.9051 - mae: 3.7611 - val_loss: 34.2483 - val_mae: 4.3594\n",
      "Epoch 4/100\n",
      "354/354 [==============================] - 1s 3ms/step - loss: 25.0804 - mae: 3.4593 - val_loss: 35.8540 - val_mae: 4.9002\n",
      "Epoch 5/100\n",
      "354/354 [==============================] - 1s 4ms/step - loss: 22.4101 - mae: 3.2660 - val_loss: 18.9621 - val_mae: 2.9755\n",
      "Epoch 6/100\n",
      "354/354 [==============================] - 1s 3ms/step - loss: 20.7610 - mae: 3.1973 - val_loss: 17.8626 - val_mae: 2.7446\n",
      "Epoch 7/100\n",
      "354/354 [==============================] - 1s 3ms/step - loss: 19.7664 - mae: 3.0283 - val_loss: 16.6470 - val_mae: 2.6463\n",
      "Epoch 8/100\n",
      "354/354 [==============================] - 1s 4ms/step - loss: 18.2991 - mae: 2.9288 - val_loss: 18.5197 - val_mae: 2.9817\n",
      "Epoch 9/100\n",
      "354/354 [==============================] - 1s 4ms/step - loss: 19.1036 - mae: 3.0060 - val_loss: 21.8237 - val_mae: 3.3291\n",
      "Epoch 10/100\n",
      "354/354 [==============================] - 1s 4ms/step - loss: 16.6873 - mae: 2.8146 - val_loss: 25.0057 - val_mae: 3.8250\n",
      "Epoch 11/100\n",
      "354/354 [==============================] - 1s 3ms/step - loss: 16.8330 - mae: 2.8186 - val_loss: 14.0425 - val_mae: 2.3959\n",
      "Epoch 12/100\n",
      "354/354 [==============================] - 1s 4ms/step - loss: 15.3592 - mae: 2.6837 - val_loss: 22.8546 - val_mae: 3.6458\n",
      "Epoch 13/100\n",
      "354/354 [==============================] - 1s 3ms/step - loss: 16.1805 - mae: 2.8481 - val_loss: 15.7469 - val_mae: 2.6076\n",
      "Epoch 14/100\n",
      "354/354 [==============================] - 1s 4ms/step - loss: 13.6453 - mae: 2.5505 - val_loss: 13.3715 - val_mae: 2.3593\n",
      "Epoch 15/100\n",
      "354/354 [==============================] - 1s 4ms/step - loss: 14.2006 - mae: 2.6804 - val_loss: 14.0135 - val_mae: 2.5522\n",
      "Epoch 16/100\n",
      "354/354 [==============================] - 1s 4ms/step - loss: 14.5603 - mae: 2.6834 - val_loss: 25.7943 - val_mae: 4.0258\n",
      "Epoch 17/100\n",
      "354/354 [==============================] - 1s 4ms/step - loss: 12.7398 - mae: 2.5005 - val_loss: 14.8687 - val_mae: 2.6446\n",
      "Epoch 18/100\n",
      "354/354 [==============================] - 2s 5ms/step - loss: 13.0690 - mae: 2.5893 - val_loss: 14.2161 - val_mae: 2.5795\n",
      "Epoch 19/100\n",
      "354/354 [==============================] - 1s 4ms/step - loss: 13.7362 - mae: 2.5472 - val_loss: 12.6495 - val_mae: 2.3445\n",
      "Epoch 20/100\n",
      "354/354 [==============================] - 2s 5ms/step - loss: 13.0097 - mae: 2.6212 - val_loss: 11.7904 - val_mae: 2.3508\n",
      "Epoch 21/100\n",
      "354/354 [==============================] - 1s 4ms/step - loss: 11.3239 - mae: 2.4275 - val_loss: 18.0536 - val_mae: 2.9338\n",
      "Epoch 22/100\n",
      "354/354 [==============================] - 1s 4ms/step - loss: 12.4150 - mae: 2.5102 - val_loss: 11.0152 - val_mae: 2.2376\n",
      "Epoch 23/100\n",
      "354/354 [==============================] - 2s 4ms/step - loss: 11.4250 - mae: 2.4209 - val_loss: 12.8069 - val_mae: 2.5464\n",
      "Epoch 24/100\n",
      "354/354 [==============================] - 1s 4ms/step - loss: 10.8142 - mae: 2.3275 - val_loss: 13.5638 - val_mae: 2.5997\n",
      "Epoch 25/100\n",
      "354/354 [==============================] - 2s 5ms/step - loss: 11.0884 - mae: 2.3986 - val_loss: 16.3910 - val_mae: 2.9422\n",
      "Epoch 26/100\n",
      "354/354 [==============================] - 2s 5ms/step - loss: 10.6851 - mae: 2.3272 - val_loss: 20.9590 - val_mae: 3.7271\n",
      "Epoch 27/100\n",
      "354/354 [==============================] - 1s 4ms/step - loss: 11.0875 - mae: 2.4745 - val_loss: 13.9108 - val_mae: 2.5149\n",
      "Epoch 28/100\n",
      "354/354 [==============================] - 1s 3ms/step - loss: 10.1894 - mae: 2.2763 - val_loss: 14.1142 - val_mae: 2.4713\n",
      "Epoch 29/100\n",
      "354/354 [==============================] - 1s 4ms/step - loss: 10.4188 - mae: 2.3699 - val_loss: 14.3308 - val_mae: 2.8138\n",
      "Epoch 30/100\n",
      "354/354 [==============================] - 1s 4ms/step - loss: 9.9886 - mae: 2.2373 - val_loss: 12.3823 - val_mae: 2.5288\n",
      "Epoch 31/100\n",
      "354/354 [==============================] - 1s 3ms/step - loss: 9.7203 - mae: 2.2472 - val_loss: 24.2338 - val_mae: 4.0483\n",
      "Epoch 32/100\n",
      "354/354 [==============================] - 1s 4ms/step - loss: 10.0378 - mae: 2.2511 - val_loss: 15.5136 - val_mae: 3.0191\n",
      "Epoch 33/100\n",
      "354/354 [==============================] - 1s 4ms/step - loss: 8.5310 - mae: 2.1119 - val_loss: 17.0584 - val_mae: 3.1766\n",
      "Epoch 34/100\n",
      "354/354 [==============================] - 1s 4ms/step - loss: 8.9908 - mae: 2.1956 - val_loss: 35.3145 - val_mae: 5.0423\n",
      "Epoch 35/100\n",
      "354/354 [==============================] - 1s 3ms/step - loss: 8.5433 - mae: 2.1560 - val_loss: 11.5922 - val_mae: 2.4003\n",
      "Epoch 36/100\n",
      "354/354 [==============================] - 1s 4ms/step - loss: 8.8072 - mae: 2.1865 - val_loss: 12.1665 - val_mae: 2.4238\n",
      "Epoch 37/100\n",
      "354/354 [==============================] - 1s 3ms/step - loss: 9.6755 - mae: 2.1639 - val_loss: 17.5786 - val_mae: 3.3111\n",
      "Epoch 38/100\n",
      "354/354 [==============================] - 1s 4ms/step - loss: 9.3787 - mae: 2.2095 - val_loss: 13.5011 - val_mae: 2.7091\n",
      "Epoch 39/100\n",
      "354/354 [==============================] - 1s 4ms/step - loss: 8.3230 - mae: 2.1039 - val_loss: 20.2199 - val_mae: 3.5679\n",
      "Epoch 40/100\n",
      "354/354 [==============================] - 1s 4ms/step - loss: 8.7847 - mae: 2.2348 - val_loss: 25.9042 - val_mae: 4.1421\n",
      "Epoch 41/100\n",
      "354/354 [==============================] - 1s 4ms/step - loss: 9.5590 - mae: 2.2222 - val_loss: 15.4005 - val_mae: 2.8079\n",
      "Epoch 42/100\n",
      "354/354 [==============================] - 1s 4ms/step - loss: 9.4192 - mae: 2.2523 - val_loss: 13.2802 - val_mae: 2.5783\n",
      "Epoch 43/100\n",
      "354/354 [==============================] - 2s 4ms/step - loss: 7.8210 - mae: 2.0803 - val_loss: 11.8473 - val_mae: 2.3217\n",
      "Epoch 44/100\n",
      "354/354 [==============================] - 1s 4ms/step - loss: 7.7469 - mae: 2.0536 - val_loss: 13.2607 - val_mae: 2.5777\n",
      "Epoch 45/100\n",
      "354/354 [==============================] - 1s 4ms/step - loss: 8.4690 - mae: 2.1663 - val_loss: 20.0029 - val_mae: 3.5746\n",
      "Epoch 46/100\n",
      "354/354 [==============================] - 1s 4ms/step - loss: 7.1523 - mae: 2.0239 - val_loss: 16.1155 - val_mae: 2.9402\n",
      "Epoch 47/100\n",
      "354/354 [==============================] - 1s 4ms/step - loss: 7.8858 - mae: 2.1087 - val_loss: 14.3754 - val_mae: 2.7679\n",
      "Epoch 48/100\n",
      "354/354 [==============================] - 1s 4ms/step - loss: 7.6026 - mae: 2.0556 - val_loss: 18.4973 - val_mae: 3.4041\n",
      "Epoch 49/100\n",
      "354/354 [==============================] - 1s 4ms/step - loss: 8.1694 - mae: 2.1939 - val_loss: 19.3805 - val_mae: 3.5619\n",
      "Epoch 50/100\n",
      "354/354 [==============================] - 1s 3ms/step - loss: 7.9192 - mae: 2.0983 - val_loss: 22.5106 - val_mae: 3.9136\n",
      "Epoch 51/100\n",
      "354/354 [==============================] - 1s 4ms/step - loss: 7.1004 - mae: 2.0182 - val_loss: 16.0662 - val_mae: 3.0157\n",
      "Epoch 52/100\n",
      "354/354 [==============================] - 1s 4ms/step - loss: 6.8276 - mae: 1.9965 - val_loss: 14.8262 - val_mae: 2.6944\n",
      "Epoch 53/100\n",
      "354/354 [==============================] - 1s 3ms/step - loss: 7.1397 - mae: 2.0281 - val_loss: 15.1210 - val_mae: 2.9292\n",
      "Epoch 54/100\n",
      "354/354 [==============================] - 1s 4ms/step - loss: 7.3383 - mae: 2.0120 - val_loss: 11.6399 - val_mae: 2.2940\n",
      "Epoch 55/100\n"
     ]
    },
    {
     "name": "stdout",
     "output_type": "stream",
     "text": [
      "354/354 [==============================] - 1s 4ms/step - loss: 7.2713 - mae: 2.0148 - val_loss: 13.6220 - val_mae: 2.6534\n",
      "Epoch 56/100\n",
      "354/354 [==============================] - 1s 4ms/step - loss: 6.8124 - mae: 1.9390 - val_loss: 18.5676 - val_mae: 3.4329\n",
      "Epoch 57/100\n",
      "354/354 [==============================] - 1s 3ms/step - loss: 7.7471 - mae: 2.0501 - val_loss: 15.1634 - val_mae: 2.8727\n",
      "Epoch 58/100\n",
      "354/354 [==============================] - 1s 4ms/step - loss: 6.9387 - mae: 2.0076 - val_loss: 12.0096 - val_mae: 2.3290\n",
      "Epoch 59/100\n",
      "354/354 [==============================] - 1s 4ms/step - loss: 6.6882 - mae: 1.9478 - val_loss: 17.0490 - val_mae: 3.1719\n",
      "Epoch 60/100\n",
      "354/354 [==============================] - 1s 4ms/step - loss: 6.4003 - mae: 1.9085 - val_loss: 17.4643 - val_mae: 3.1458\n",
      "Epoch 61/100\n",
      "354/354 [==============================] - 1s 4ms/step - loss: 5.6129 - mae: 1.7969 - val_loss: 20.8975 - val_mae: 3.6153\n",
      "Epoch 62/100\n",
      "354/354 [==============================] - 1s 4ms/step - loss: 6.7654 - mae: 1.8977 - val_loss: 28.0960 - val_mae: 4.5210\n",
      "Epoch 63/100\n",
      "354/354 [==============================] - 1s 4ms/step - loss: 6.8142 - mae: 1.9589 - val_loss: 14.2177 - val_mae: 2.6020\n",
      "Epoch 64/100\n",
      "354/354 [==============================] - 1s 4ms/step - loss: 6.4492 - mae: 1.9050 - val_loss: 25.8823 - val_mae: 4.2471\n",
      "Epoch 65/100\n",
      "354/354 [==============================] - 1s 4ms/step - loss: 7.6615 - mae: 2.0587 - val_loss: 16.6036 - val_mae: 3.0828\n",
      "Epoch 66/100\n",
      "354/354 [==============================] - 1s 4ms/step - loss: 6.1207 - mae: 1.8506 - val_loss: 17.6436 - val_mae: 3.0981\n",
      "Epoch 67/100\n",
      "354/354 [==============================] - 1s 3ms/step - loss: 6.1453 - mae: 1.8321 - val_loss: 15.7917 - val_mae: 2.7775\n",
      "Epoch 68/100\n",
      "354/354 [==============================] - 1s 4ms/step - loss: 5.8122 - mae: 1.8219 - val_loss: 14.6445 - val_mae: 2.7680\n",
      "Epoch 69/100\n",
      "354/354 [==============================] - 1s 4ms/step - loss: 6.5643 - mae: 1.8681 - val_loss: 22.3167 - val_mae: 3.7009\n",
      "Epoch 70/100\n",
      "354/354 [==============================] - 1s 4ms/step - loss: 5.9192 - mae: 1.8192 - val_loss: 14.3245 - val_mae: 2.7460\n",
      "Epoch 71/100\n",
      "354/354 [==============================] - 2s 5ms/step - loss: 6.0287 - mae: 1.8554 - val_loss: 24.0857 - val_mae: 4.0316\n",
      "Epoch 72/100\n",
      "354/354 [==============================] - 1s 4ms/step - loss: 6.5807 - mae: 1.8882 - val_loss: 13.0517 - val_mae: 2.4943\n",
      "Epoch 73/100\n",
      "354/354 [==============================] - 1s 3ms/step - loss: 6.0005 - mae: 1.7979 - val_loss: 14.4540 - val_mae: 2.7963\n",
      "Epoch 74/100\n",
      "354/354 [==============================] - 1s 3ms/step - loss: 6.0910 - mae: 1.8546 - val_loss: 17.4505 - val_mae: 3.2761\n",
      "Epoch 75/100\n",
      "354/354 [==============================] - 1s 4ms/step - loss: 5.5222 - mae: 1.7371 - val_loss: 12.9535 - val_mae: 2.4664\n",
      "Epoch 76/100\n",
      "354/354 [==============================] - 1s 3ms/step - loss: 5.9394 - mae: 1.8527 - val_loss: 19.0167 - val_mae: 3.3928\n",
      "Epoch 77/100\n",
      "354/354 [==============================] - 1s 4ms/step - loss: 5.1798 - mae: 1.7352 - val_loss: 15.9266 - val_mae: 3.0541\n",
      "Epoch 78/100\n",
      "354/354 [==============================] - 1s 4ms/step - loss: 6.2944 - mae: 1.9135 - val_loss: 12.4267 - val_mae: 2.4871\n",
      "Epoch 79/100\n",
      "354/354 [==============================] - 1s 3ms/step - loss: 5.4668 - mae: 1.7255 - val_loss: 13.1047 - val_mae: 2.6935\n",
      "Epoch 80/100\n",
      "354/354 [==============================] - 1s 4ms/step - loss: 5.2287 - mae: 1.6807 - val_loss: 16.0008 - val_mae: 3.0357\n",
      "Epoch 81/100\n",
      "354/354 [==============================] - 1s 3ms/step - loss: 6.0286 - mae: 1.8484 - val_loss: 16.7673 - val_mae: 3.2662\n",
      "Epoch 82/100\n",
      "354/354 [==============================] - 1s 3ms/step - loss: 5.2007 - mae: 1.6834 - val_loss: 16.9707 - val_mae: 3.2486\n",
      "Epoch 83/100\n",
      "354/354 [==============================] - 1s 3ms/step - loss: 4.6557 - mae: 1.6353 - val_loss: 14.6672 - val_mae: 2.8418\n",
      "Epoch 84/100\n",
      "354/354 [==============================] - 1s 4ms/step - loss: 5.7121 - mae: 1.8358 - val_loss: 16.9081 - val_mae: 3.2660\n",
      "Epoch 85/100\n",
      "354/354 [==============================] - 1s 4ms/step - loss: 4.7929 - mae: 1.6592 - val_loss: 22.6554 - val_mae: 3.9355\n",
      "Epoch 86/100\n",
      "354/354 [==============================] - 1s 3ms/step - loss: 5.6199 - mae: 1.7684 - val_loss: 17.4373 - val_mae: 3.1984\n",
      "Epoch 87/100\n",
      "354/354 [==============================] - 1s 4ms/step - loss: 5.5203 - mae: 1.7795 - val_loss: 15.3532 - val_mae: 3.0223\n",
      "Epoch 88/100\n",
      "354/354 [==============================] - 1s 4ms/step - loss: 5.7596 - mae: 1.8454 - val_loss: 15.7733 - val_mae: 3.0992\n",
      "Epoch 89/100\n",
      "354/354 [==============================] - 1s 4ms/step - loss: 4.7544 - mae: 1.6664 - val_loss: 12.6796 - val_mae: 2.6077\n",
      "Epoch 90/100\n",
      "354/354 [==============================] - 1s 3ms/step - loss: 4.9963 - mae: 1.6971 - val_loss: 18.5729 - val_mae: 3.4775\n",
      "Epoch 91/100\n",
      "354/354 [==============================] - 1s 4ms/step - loss: 5.4517 - mae: 1.6869 - val_loss: 15.1856 - val_mae: 3.0269\n",
      "Epoch 92/100\n",
      "354/354 [==============================] - 1s 4ms/step - loss: 4.2676 - mae: 1.5667 - val_loss: 20.9496 - val_mae: 3.7011\n",
      "Epoch 93/100\n",
      "354/354 [==============================] - 1s 4ms/step - loss: 5.1049 - mae: 1.7097 - val_loss: 16.2477 - val_mae: 2.8249\n",
      "Epoch 94/100\n",
      "354/354 [==============================] - 1s 3ms/step - loss: 5.4416 - mae: 1.7307 - val_loss: 27.2551 - val_mae: 4.4752\n",
      "Epoch 95/100\n",
      "354/354 [==============================] - 1s 4ms/step - loss: 6.4951 - mae: 1.8578 - val_loss: 12.9753 - val_mae: 2.6325\n",
      "Epoch 96/100\n",
      "354/354 [==============================] - 1s 4ms/step - loss: 4.1259 - mae: 1.5757 - val_loss: 14.3875 - val_mae: 2.9222\n",
      "Epoch 97/100\n",
      "354/354 [==============================] - 1s 4ms/step - loss: 4.4779 - mae: 1.6099 - val_loss: 17.0303 - val_mae: 3.2652\n",
      "Epoch 98/100\n",
      "354/354 [==============================] - 1s 4ms/step - loss: 4.2635 - mae: 1.6185 - val_loss: 12.9151 - val_mae: 2.6549\n",
      "Epoch 99/100\n",
      "354/354 [==============================] - 1s 3ms/step - loss: 4.4461 - mae: 1.5967 - val_loss: 14.0472 - val_mae: 2.8304\n",
      "Epoch 100/100\n",
      "354/354 [==============================] - 1s 4ms/step - loss: 4.1697 - mae: 1.5269 - val_loss: 12.1723 - val_mae: 2.5979\n"
     ]
    }
   ],
   "source": [
    "model= house_price_prediction()\n",
    "history=model.fit(x=x_train_scaled,y=y_train,batch_size=1,verbose=1,epochs=100,validation_data=(x_test_scaled,y_test))"
   ]
  },
  {
   "cell_type": "code",
   "execution_count": 18,
   "id": "5d9058de",
   "metadata": {},
   "outputs": [
    {
     "name": "stdout",
     "output_type": "stream",
     "text": [
      "actual output: 24.0\n",
      "1/1 [==============================] - 0s 236ms/step\n",
      "predicted output: [[23.047903]]\n"
     ]
    }
   ],
   "source": [
    "test_input = [[0.00154995, 0.        , 0.28962963, 0.        , 0.27777778,\n",
    "       0.56936665, 0.70442842, 0.15699879, 0.17391304, 0.3759542 ,\n",
    "       0.88297872, 0.99665297, 0.16851064]]\n",
    "print(\"actual output:\",24.0)\n",
    "print(\"predicted output:\",model.predict(test_input))"
   ]
  },
  {
   "cell_type": "code",
   "execution_count": null,
   "id": "9a8eed45",
   "metadata": {},
   "outputs": [],
   "source": []
  },
  {
   "cell_type": "code",
   "execution_count": 19,
   "id": "f94d08e6",
   "metadata": {},
   "outputs": [
    {
     "data": {
      "image/png": "[encoded data removed]",
      "text/plain": [
       "<Figure size 640x480 with 1 Axes>"
      ]
     },
     "metadata": {},
     "output_type": "display_data"
    }
   ],
   "source": [
    "import matplotlib.pyplot as plt\n",
    "\n",
    "# Plot training & validation loss values\n",
    "plt.plot(history.history['loss'])\n",
    "plt.plot(history.history['val_loss'])\n",
    "plt.title('Model Loss')\n",
    "plt.xlabel('Epoch')\n",
    "plt.ylabel('Loss')\n",
    "plt.legend(['Train', 'Validation'], loc='upper left')\n",
    "plt.show()\n"
   ]
  },
  {
   "cell_type": "code",
   "execution_count": 21,
   "id": "9d27e44c",
   "metadata": {},
   "outputs": [
    {
     "name": "stdout",
     "output_type": "stream",
     "text": [
      "5/5 [==============================] - 0s 4ms/step - loss: 12.1723 - mae: 2.5979\n",
      "Mean squared error on test data:  12.172261238098145\n",
      "Mean absolute error on test data:  2.597905397415161\n"
     ]
    }
   ],
   "source": [
    "mse_nn, mae_nn = model.evaluate(x_test_scaled, y_test)\n",
    "\n",
    "print('Mean squared error on test data: ', mse_nn)\n",
    "print('Mean absolute error on test data: ', mae_nn)"
   ]
  },
  {
   "cell_type": "code",
   "execution_count": null,
   "id": "22a5d606",
   "metadata": {},
   "outputs": [],
   "source": []
  }
 ],
 "metadata": {
  "kernelspec": {
   "display_name": "Python 3 (ipykernel)",
   "language": "python",
   "name": "python3"
  },
  "language_info": {
   "codemirror_mode": {
    "name": "ipython",
    "version": 3
   },
   "file_extension": ".py",
   "mimetype": "text/x-python",
   "name": "python",
   "nbconvert_exporter": "python",
   "pygments_lexer": "ipython3",
   "version": "3.9.7"
  }
 },
 "nbformat": 4,
 "nbformat_minor": 5
}
